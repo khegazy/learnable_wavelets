{
 "cells": [
  {
   "attachments": {},
   "cell_type": "markdown",
   "metadata": {},
   "source": [
    "# Kuramoto Sivashinsky Equation"
   ]
  },
  {
   "cell_type": "code",
   "execution_count": null,
   "metadata": {},
   "outputs": [],
   "source": [
    "using Plots\n",
    "using OrdinaryDiffEq\n",
    "using JLD2\n",
    "using BlockArrays\n",
    "using LinearAlgebra\n",
    "using SparseArrays\n",
    "\n",
    "function ks_fd_operators(n, dx)\n",
    "    ∂x = (diagm(1=>ones(n-1)) + diagm(-1=>-1*ones(n-1)))\n",
    "    ∂x[1,end] = -1\n",
    "    ∂x[end,1] = 1\n",
    "    ∂x ./= (2*dx)\n",
    "    ∂x = sparse(∂x)\n",
    "    ∂x2 = diagm(0=>-2*ones(n)) + diagm(-1=>ones(n-1)) + diagm(1=>ones(n-1))\n",
    "    ∂x2[1,end] = 1\n",
    "    ∂x2[end,1] = 1\n",
    "    ∂x2 ./= (dx)^2\n",
    "    ∂x2 = sparse(∂x2)\n",
    "    ∂x4 = sparse(∂x2*∂x2)\n",
    "    return ∂x, ∂x2, ∂x4\n",
    "end\n",
    "\n",
    "\n",
    "function ks_oop(u,p,t)\n",
    "    -∂x4*u - ∂x2*u - u.*(∂x*u)\n",
    "end\n",
    "\n",
    "#Define variables\n",
    "n = 1024\n",
    "L = 560\n",
    "dt = 0.05\n",
    "N_t = 2000\n",
    "dx = L/n\n",
    "t_start = 200 #length of initial transient to discard\n",
    "t_end = t_start + N_t*dt\n",
    "\n",
    "∂x, ∂x2, ∂x4 = ks_fd_operators(n, dx);\n",
    "\n",
    "u0 = 0.01*(rand(Float32,n) .- 0.5) #initial condition\n",
    "println(\"Initial condition size:\", size(u0))\n",
    "prob = ODEProblem(ks_oop, Float32.(u0), (0.,t_end))\n",
    "sol = Array(solve(prob, Tsit5(), saveat=t_start:dt:t_end));\n",
    "\n",
    "contourf(sol)"
   ]
  },
  {
   "cell_type": "code",
   "execution_count": null,
   "metadata": {},
   "outputs": [],
   "source": [
    "size(sol)"
   ]
  },
  {
   "cell_type": "code",
   "execution_count": null,
   "metadata": {},
   "outputs": [],
   "source": [
    "plot(sol[1:256,1])\n",
    "plot!(sol[1:256,100])\n",
    "plot!(sol[1:256,500])\n",
    "display(plot!(sol[1:256,1000]))"
   ]
  },
  {
   "cell_type": "code",
   "execution_count": null,
   "metadata": {},
   "outputs": [],
   "source": []
  }
 ],
 "metadata": {
  "kernelspec": {
   "display_name": "Julia 1.9.3",
   "language": "julia",
   "name": "julia-1.9"
  },
  "language_info": {
   "file_extension": ".jl",
   "mimetype": "application/julia",
   "name": "julia",
   "version": "1.9.3"
  }
 },
 "nbformat": 4,
 "nbformat_minor": 4
}
